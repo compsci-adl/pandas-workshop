{
 "cells": [
  {
   "cell_type": "markdown",
   "metadata": {},
   "source": [
    "# Pandas Workshop\n",
    "\n",
    "Follow along notebook for CS Club Pandas Workshop. This notebook takes you through the basics of Pandas and some its applications and implications.\n",
    "\n",
    "Pandas is a library used for data manipulation and management, full documentation can be found at https://pandas.pydata.org/docs/reference/index.html\n",
    "\n"
   ]
  },
  {
   "cell_type": "markdown",
   "metadata": {},
   "source": [
    "## 1. Importing Pandas into your projects\n",
    "\n",
    "Usually done as shown bellow. Installation of package can be done through pip, Python's package manager.\n",
    "\n",
    "- Installing pip: https://pip.pypa.io/en/stable/installation/\n",
    "- Install Pandas via pip: `pip install pandas`"
   ]
  },
  {
   "cell_type": "code",
   "execution_count": null,
   "metadata": {},
   "outputs": [],
   "source": [
    "import pandas as pd"
   ]
  },
  {
   "cell_type": "markdown",
   "metadata": {},
   "source": [
    "In Python, the `as` keyword is used to create an alias for the library so that we can use `pd.Dataframe` instead of `pandas.Dataframe`."
   ]
  },
  {
   "cell_type": "code",
   "execution_count": null,
   "metadata": {},
   "outputs": [],
   "source": [
    "# Without alias\n",
    "import pandas\n",
    "\n",
    "example = pandas.DataFrame([1, 2, 3])\n",
    "\n",
    "# With alias - using `pd` is much nicer!\n",
    "import pandas as pd\n",
    "\n",
    "example = pd.DataFrame([1, 2, 3])"
   ]
  },
  {
   "cell_type": "markdown",
   "metadata": {},
   "source": [
    "## 2. The DataFrame"
   ]
  },
  {
   "cell_type": "markdown",
   "metadata": {},
   "source": [
    "The DataFrame is Pandas' primary data structure. Think of it as a normal table (like in Excel) but with extra features."
   ]
  },
  {
   "cell_type": "markdown",
   "metadata": {},
   "source": [
    "### 2.1 Panda Series\n",
    "\n",
    "Series are a one-dimensional row of data, like a column in a table. Different type of data structures can be made as series."
   ]
  },
  {
   "cell_type": "code",
   "execution_count": null,
   "metadata": {},
   "outputs": [],
   "source": [
    "# From an array\n",
    "array = [1, 2, 3, 4, 5]\n",
    "\n",
    "series1 = pd.Series(array)\n",
    "\n",
    "print(series1)"
   ]
  },
  {
   "cell_type": "code",
   "execution_count": null,
   "metadata": {},
   "outputs": [],
   "source": [
    "# From a dictionary (Python's hashmap, works like unordered map in C++)\n",
    "dict = {1: 1, 2: 2, 3: 3, 4: 4, \"a\": 5}\n",
    "\n",
    "series2 = pd.Series(dict)\n",
    "\n",
    "print(series2)"
   ]
  },
  {
   "cell_type": "code",
   "execution_count": null,
   "metadata": {},
   "outputs": [],
   "source": [
    "# From a NumPy array (if you do not have NumPy installed, install it via `pip install numpy`)\n",
    "\n",
    "import numpy as np\n",
    "\n",
    "nparray = np.random.rand(5)\n",
    "\n",
    "series3 = pd.Series(nparray)\n",
    "\n",
    "print(series3)"
   ]
  },
  {
   "cell_type": "markdown",
   "metadata": {},
   "source": [
    "You can also get the data much like a normal map or hashmap by specifying an index. Note that if an index is not specified, it is 0-indexed by default."
   ]
  },
  {
   "cell_type": "code",
   "execution_count": null,
   "metadata": {},
   "outputs": [],
   "source": [
    "print(series3[2])\n",
    "print(series2[\"a\"])"
   ]
  },
  {
   "cell_type": "markdown",
   "metadata": {},
   "source": [
    "### 2.2 Back to DataFrame\n",
    "\n",
    "If series is a single column, the DataFrame would be a whole table. Thus, DataFrames can be made using series and conversely, series can be extracted from DataFrames. DataFrames can also be made individually from other types of data structures such as arrays and hashmaps."
   ]
  },
  {
   "cell_type": "code",
   "execution_count": null,
   "metadata": {},
   "outputs": [],
   "source": [
    "# making df (DataFrame) from series\n",
    "\n",
    "dfFromSeries = pd.DataFrame(\n",
    "    {\n",
    "        \"A\": series1,\n",
    "        \"B\": series2,\n",
    "        \"C\": series3,\n",
    "    }\n",
    ")\n",
    "\n",
    "print(dfFromSeries)"
   ]
  },
  {
   "cell_type": "code",
   "execution_count": null,
   "metadata": {},
   "outputs": [],
   "source": [
    "# Making DataFrame from dictionary/map\n",
    "\n",
    "map = {\n",
    "    \"Name\": [\n",
    "        \"Alice\",\n",
    "        \"Bob\",\n",
    "        \"Charlie\",\n",
    "        \"David\",\n",
    "        \"Eve\",\n",
    "        \"Frank\",\n",
    "        \"Grace\",\n",
    "        \"Hannah\",\n",
    "        \"Ian\",\n",
    "        \"Jane\",\n",
    "    ],\n",
    "    \"Age\": [24, 30, 22, 35, 29, 41, 36, 27, 31, 25],\n",
    "    \"City\": [\n",
    "        \"Sydney\",\n",
    "        \"Melbourne\",\n",
    "        \"Adelaide\",\n",
    "        \"Sydney\",\n",
    "        \"Melbourne\",\n",
    "        \"Adelaide\",\n",
    "        \"Sydney\",\n",
    "        \"Melbourne\",\n",
    "        \"Adelaide\",\n",
    "        \"Sydney\",\n",
    "    ],\n",
    "    \"Salary\": [70000, 80000, 65000, 90000, 72000, 82000, 73000, 67000, 75000, 78000],\n",
    "}\n",
    "\n",
    "ageDf = pd.DataFrame(map)\n",
    "\n",
    "print(ageDf)"
   ]
  },
  {
   "cell_type": "markdown",
   "metadata": {},
   "source": [
    "Series can be extracted from DataFrame as follows:"
   ]
  },
  {
   "cell_type": "code",
   "execution_count": null,
   "metadata": {},
   "outputs": [],
   "source": [
    "SeriesFromDF = ageDf.Name\n",
    "print(SeriesFromDF)"
   ]
  },
  {
   "cell_type": "code",
   "execution_count": null,
   "metadata": {},
   "outputs": [],
   "source": [
    "SeriesFromDF = ageDf[\"Age\"]\n",
    "print(SeriesFromDF)"
   ]
  },
  {
   "cell_type": "markdown",
   "metadata": {},
   "source": [
    "### 2.3 Importing Into Pandas\n",
    "Mostly we don't want data to be made in python mostly we would want to import it from a big file stored elsewhere. Pandas supports many types of files it can import from, including compressed file example showed bellow."
   ]
  },
  {
   "cell_type": "code",
   "execution_count": null,
   "metadata": {},
   "outputs": [],
   "source": [
    "# Reading from CSV file\n",
    "df = pd.read_csv(\n",
    "    \"https://raw.githubusercontent.com/compsci-adl/pandas-workshop/main/StudentsPerformance.csv\"\n",
    ")\n",
    "\n",
    "print(df)"
   ]
  },
  {
   "cell_type": "markdown",
   "metadata": {},
   "source": [
    "Files can be read from different formats including CSV, Excel, SQL etc.."
   ]
  },
  {
   "cell_type": "markdown",
   "metadata": {},
   "source": [
    "## 3. Pandas Functions"
   ]
  },
  {
   "cell_type": "markdown",
   "metadata": {},
   "source": [
    "Pandas is primarily used to clean and analyse large datasets and provides some helpful built-in functions for this purpose."
   ]
  },
  {
   "cell_type": "markdown",
   "metadata": {},
   "source": [
    "### Indexing Functions\n",
    "\n",
    "Used for retrieving data from dataset."
   ]
  },
  {
   "cell_type": "markdown",
   "metadata": {},
   "source": [
    "The `head` and `tail` functions show the first and last five elements as shown."
   ]
  },
  {
   "cell_type": "code",
   "execution_count": null,
   "metadata": {},
   "outputs": [],
   "source": [
    "print(ageDf.head())"
   ]
  },
  {
   "cell_type": "code",
   "execution_count": null,
   "metadata": {},
   "outputs": [],
   "source": [
    "print(ageDf.tail())"
   ]
  },
  {
   "cell_type": "markdown",
   "metadata": {},
   "source": [
    "For getting specific row or rows of data the `loc` or `iloc` method can be used."
   ]
  },
  {
   "cell_type": "markdown",
   "metadata": {},
   "source": [
    "`iloc` is used with numeric indexes and we can also get a range of values using `iloc`."
   ]
  },
  {
   "cell_type": "code",
   "execution_count": null,
   "metadata": {},
   "outputs": [],
   "source": [
    "ageDf.iloc[3]"
   ]
  },
  {
   "cell_type": "code",
   "execution_count": null,
   "metadata": {},
   "outputs": [],
   "source": [
    "ageDf.iloc[1:3]"
   ]
  },
  {
   "cell_type": "markdown",
   "metadata": {},
   "source": [
    "`loc` is used for retrieving using label or boolean conditions."
   ]
  },
  {
   "cell_type": "markdown",
   "metadata": {},
   "source": [
    "Boolean conditions are basically filters, can be used by themselves without `loc` as follows:"
   ]
  },
  {
   "cell_type": "code",
   "execution_count": null,
   "metadata": {},
   "outputs": [],
   "source": [
    "ageDf[ageDf[\"Age\"] > 25]"
   ]
  },
  {
   "cell_type": "code",
   "execution_count": null,
   "metadata": {},
   "outputs": [],
   "source": [
    "ageDf[(ageDf[\"Age\"] > 25) & (ageDf[\"Salary\"] < 75000)]"
   ]
  },
  {
   "cell_type": "code",
   "execution_count": null,
   "metadata": {},
   "outputs": [],
   "source": [
    "ageDf.loc[(ageDf[\"Age\"] > 25) & (ageDf[\"Salary\"] < 75000), \"Name\"]"
   ]
  },
  {
   "cell_type": "markdown",
   "metadata": {},
   "source": [
    "### Summary Functions\n",
    "\n",
    "Summary functions for basic statistics measures and other basic functions like sum."
   ]
  },
  {
   "cell_type": "code",
   "execution_count": null,
   "metadata": {},
   "outputs": [],
   "source": [
    "salaryFilt = ageDf[(ageDf[\"Age\"] > 25) & (ageDf[\"Salary\"] < 75000)]\n",
    "\n",
    "print(salaryFilt)"
   ]
  },
  {
   "cell_type": "code",
   "execution_count": null,
   "metadata": {},
   "outputs": [],
   "source": [
    "print(salaryFilt[\"Salary\"].describe())"
   ]
  },
  {
   "cell_type": "code",
   "execution_count": null,
   "metadata": {},
   "outputs": [],
   "source": [
    "print(ageDf[\"Salary\"].describe())"
   ]
  },
  {
   "cell_type": "code",
   "execution_count": null,
   "metadata": {},
   "outputs": [],
   "source": [
    "print(ageDf[\"Age\"].mean())"
   ]
  },
  {
   "cell_type": "markdown",
   "metadata": {},
   "source": [
    "### Plot function"
   ]
  },
  {
   "cell_type": "markdown",
   "metadata": {},
   "source": [
    "Pandas has a built-in plot function similar to what is present in the Matplotlib library."
   ]
  },
  {
   "cell_type": "code",
   "execution_count": null,
   "metadata": {},
   "outputs": [],
   "source": [
    "ageDf.plot()"
   ]
  },
  {
   "cell_type": "markdown",
   "metadata": {},
   "source": [
    "You can also plot a variable against another, with various kinds of plots."
   ]
  },
  {
   "cell_type": "code",
   "execution_count": null,
   "metadata": {},
   "outputs": [],
   "source": [
    "ageDf.plot(kind=\"scatter\", x=\"Age\", y=\"Salary\")"
   ]
  },
  {
   "cell_type": "markdown",
   "metadata": {},
   "source": [
    "There is also the correlation function which is discussed later."
   ]
  },
  {
   "cell_type": "markdown",
   "metadata": {},
   "source": [
    "### Drop and Fill Functions\n",
    "\n",
    "One of Pandas' major functions is to drop or fill in a DataFrame with null values. Going back to the example where we made a DataFrame from multiple series, a mismatch of the index caused a NaN (Not a Number) value to be formed."
   ]
  },
  {
   "cell_type": "code",
   "execution_count": null,
   "metadata": {},
   "outputs": [],
   "source": [
    "# We get an error\n",
    "print(dfFromSeries)"
   ]
  },
  {
   "cell_type": "markdown",
   "metadata": {},
   "source": [
    "Two functions we can use to help in removing these values are the `dropna` and `fillna` functions. It is not always possible to drop the entire row so `fillna` is used instead."
   ]
  },
  {
   "cell_type": "code",
   "execution_count": null,
   "metadata": {},
   "outputs": [],
   "source": [
    "dfFromSeries[\"B\"] = dfFromSeries.B.fillna(dfFromSeries.B.median())\n",
    "\n",
    "print(dfFromSeries)"
   ]
  },
  {
   "cell_type": "code",
   "execution_count": null,
   "metadata": {},
   "outputs": [],
   "source": [
    "dfFromSeries = dfFromSeries.dropna()\n",
    "\n",
    "print(dfFromSeries)"
   ]
  },
  {
   "cell_type": "markdown",
   "metadata": {},
   "source": [
    "Also there is the normal `drop` function which drops the specified row"
   ]
  },
  {
   "cell_type": "code",
   "execution_count": null,
   "metadata": {},
   "outputs": [],
   "source": [
    "dfFromSeries.drop(labels=3)"
   ]
  },
  {
   "cell_type": "markdown",
   "metadata": {},
   "source": [
    "### Groupby Function"
   ]
  },
  {
   "cell_type": "markdown",
   "metadata": {},
   "source": [
    "Groupby functions make it possible to do groupwise analysis, for example grouping data by cities or countries."
   ]
  },
  {
   "cell_type": "markdown",
   "metadata": {},
   "source": [
    "Lets say we want to group our salary and age data by city instead."
   ]
  },
  {
   "cell_type": "code",
   "execution_count": null,
   "metadata": {},
   "outputs": [],
   "source": [
    "ageDf"
   ]
  },
  {
   "cell_type": "markdown",
   "metadata": {},
   "source": [
    "We can use `groupby` to achieve this but unfortunately, printing using the `groupby` method just returns an object pointer."
   ]
  },
  {
   "cell_type": "code",
   "execution_count": null,
   "metadata": {},
   "outputs": [],
   "source": [
    "ageDf.groupby(\"City\")"
   ]
  },
  {
   "cell_type": "markdown",
   "metadata": {},
   "source": [
    "Use a lambda function instead to display all the elements."
   ]
  },
  {
   "cell_type": "code",
   "execution_count": null,
   "metadata": {},
   "outputs": [],
   "source": [
    "ageDf.groupby(\"City\").apply(lambda df: df.iloc[:,])"
   ]
  },
  {
   "cell_type": "code",
   "execution_count": null,
   "metadata": {},
   "outputs": [],
   "source": [
    "ageDf.groupby(\"City\")[\"Salary\"].agg([len, \"min\", \"max\", \"mean\", \"median\", \"std\"])"
   ]
  },
  {
   "cell_type": "markdown",
   "metadata": {},
   "source": [
    "### Element Function"
   ]
  },
  {
   "cell_type": "markdown",
   "metadata": {},
   "source": [
    "This is a function that can be used on every element, every row, or every column in a DataFrame. They can be used for various functions like displaying elements, normalisation, etc."
   ]
  },
  {
   "cell_type": "code",
   "execution_count": null,
   "metadata": {},
   "outputs": [],
   "source": [
    "def correction(row):\n",
    "    if row.City == \"Sydney\":\n",
    "        row.Salary += 5000\n",
    "    return row\n",
    "\n",
    "\n",
    "ageDf = ageDf.apply(correction, axis=1)\n",
    "ageDf"
   ]
  },
  {
   "cell_type": "markdown",
   "metadata": {},
   "source": [
    "### Correlation Function"
   ]
  },
  {
   "cell_type": "markdown",
   "metadata": {},
   "source": [
    "Much like the statical summary function, this function makes a correlation matrix between two variables"
   ]
  },
  {
   "cell_type": "code",
   "execution_count": null,
   "metadata": {},
   "outputs": [],
   "source": [
    "ageDf.corr()"
   ]
  },
  {
   "cell_type": "code",
   "execution_count": null,
   "metadata": {},
   "outputs": [],
   "source": [
    "ageDf.loc[:, [\"Salary\", \"Age\"]].corr()"
   ]
  },
  {
   "cell_type": "markdown",
   "metadata": {},
   "source": [
    "### Joining Functions\n",
    "\n",
    "Pandas also has various functions to join two datasets together, with various different methods of doing so.\n",
    "\n",
    "The two main functions used are `merge` and `concat`."
   ]
  },
  {
   "cell_type": "code",
   "execution_count": null,
   "metadata": {},
   "outputs": [],
   "source": [
    "half1 = ageDf.iloc[:5]\n",
    "half2 = ageDf.iloc[5:]\n",
    "\n",
    "print(half1, \"\\n\\n\", half2)"
   ]
  },
  {
   "cell_type": "code",
   "execution_count": null,
   "metadata": {},
   "outputs": [],
   "source": [
    "combined = pd.concat([half1, half2])\n",
    "\n",
    "combined"
   ]
  },
  {
   "cell_type": "markdown",
   "metadata": {},
   "source": [
    "### Some Miscellaneous Functions"
   ]
  },
  {
   "cell_type": "code",
   "execution_count": null,
   "metadata": {},
   "outputs": [],
   "source": [
    "# Return unique values in an array\n",
    "pd.unique(ageDf[\"City\"])"
   ]
  },
  {
   "cell_type": "code",
   "execution_count": null,
   "metadata": {},
   "outputs": [],
   "source": [
    "# Return indexes of object\n",
    "print(series2.keys())\n",
    "\n",
    "# Returns object with all numeric values\n",
    "print(pd.to_numeric(series2.keys(), errors=\"coerce\"))"
   ]
  },
  {
   "cell_type": "code",
   "execution_count": null,
   "metadata": {},
   "outputs": [],
   "source": [
    "#renaming the columns \n",
    "ageDf.rename(columns={'City':'State'})"
   ]
  },
  {
   "cell_type": "markdown",
   "metadata": {},
   "source": [
    "### Matrix multiplication functions"
   ]
  },
  {
   "cell_type": "code",
   "execution_count": null,
   "metadata": {},
   "outputs": [],
   "source": [
    "matrix = pd.DataFrame([[1, 1, 1], [2, 1, 3]])\n",
    "matrix"
   ]
  },
  {
   "cell_type": "code",
   "execution_count": null,
   "metadata": {},
   "outputs": [],
   "source": [
    "# Matrix transpose\n",
    "matrix.T"
   ]
  },
  {
   "cell_type": "code",
   "execution_count": null,
   "metadata": {},
   "outputs": [],
   "source": [
    "# Matrix multiply\n",
    "matrix.T @ matrix"
   ]
  },
  {
   "cell_type": "markdown",
   "metadata": {},
   "source": [
    "## 4. Example Usage"
   ]
  },
  {
   "cell_type": "code",
   "execution_count": null,
   "metadata": {},
   "outputs": [],
   "source": [
    "df"
   ]
  },
  {
   "cell_type": "code",
   "execution_count": null,
   "metadata": {},
   "outputs": [],
   "source": [
    "df.dropna(inplace=True)\n",
    "df"
   ]
  },
  {
   "cell_type": "code",
   "execution_count": null,
   "metadata": {},
   "outputs": [],
   "source": [
    "df.groupby(\"lunch\").apply(lambda df: df.loc[:, \"math score\"])\n",
    "df.groupby([\"lunch\"])[\"math score\"].agg([\"min\", \"max\", \"median\", len])"
   ]
  },
  {
   "cell_type": "code",
   "execution_count": null,
   "metadata": {},
   "outputs": [],
   "source": [
    "df.groupby([\"lunch\"])[\"math score\"].plot(kind=\"box\")"
   ]
  },
  {
   "cell_type": "code",
   "execution_count": null,
   "metadata": {},
   "outputs": [],
   "source": [
    "df.boxplot(column=\"math score\", by=\"lunch\", grid=False)"
   ]
  },
  {
   "cell_type": "code",
   "execution_count": null,
   "metadata": {},
   "outputs": [],
   "source": [
    "newDf = df.loc[:, [\"math score\", \"reading score\"]]"
   ]
  },
  {
   "cell_type": "code",
   "execution_count": null,
   "metadata": {},
   "outputs": [],
   "source": [
    "newDf.corr()"
   ]
  },
  {
   "cell_type": "code",
   "execution_count": null,
   "metadata": {},
   "outputs": [],
   "source": [
    "newDf = newDf.apply(pd.to_numeric, errors=\"coerce\")\n",
    "newDf.dropna(inplace=True)"
   ]
  },
  {
   "cell_type": "code",
   "execution_count": null,
   "metadata": {},
   "outputs": [],
   "source": [
    "newDf.corr()"
   ]
  },
  {
   "cell_type": "code",
   "execution_count": null,
   "metadata": {},
   "outputs": [],
   "source": [
    "newDf.plot()"
   ]
  },
  {
   "cell_type": "code",
   "execution_count": null,
   "metadata": {},
   "outputs": [],
   "source": [
    "newDf.plot(x=\"math score\", y=\"reading score\", kind=\"scatter\")"
   ]
  },
  {
   "cell_type": "code",
   "execution_count": null,
   "metadata": {},
   "outputs": [],
   "source": [
    "import numpy as np\n",
    "import matplotlib.pyplot as plt\n",
    "\n",
    "slope, intercept = np.polyfit(newDf[\"math score\"], newDf[\"reading score\"], 1)\n",
    "line_x = np.linspace(df[\"math score\"].min(), df[\"math score\"].max(), 100)\n",
    "line_y = slope * line_x + intercept\n",
    "\n",
    "newDf.plot(x=\"math score\", y=\"reading score\", kind=\"scatter\")\n",
    "plt.plot(\n",
    "    line_x, line_y, color=\"red\", label=f\"Best Fit Line: y={slope:.2f}x+{intercept:.2f}\"\n",
    ")\n",
    "\n",
    "plt.legend()\n",
    "\n",
    "plt.show()"
   ]
  }
 ],
 "metadata": {
  "kernelspec": {
   "display_name": "Python 3",
   "language": "python",
   "name": "python3"
  },
  "language_info": {
   "codemirror_mode": {
    "name": "ipython",
    "version": 3
   },
   "file_extension": ".py",
   "mimetype": "text/x-python",
   "name": "python",
   "nbconvert_exporter": "python",
   "pygments_lexer": "ipython3",
   "version": "3.12.4"
  }
 },
 "nbformat": 4,
 "nbformat_minor": 2
}
