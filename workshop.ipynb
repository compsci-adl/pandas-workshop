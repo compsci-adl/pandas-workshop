{
 "cells": [
  {
   "cell_type": "markdown",
   "metadata": {},
   "source": [
    "<h1> Pandas Workshop </h1>\n",
    "<p>Follow along notebook for CS Club Pands Workshop. This notebook takes you through the basics of pandas and some its applications and implications.<p>\n",
    "\n",
    "<p>Pandas is a library used for data manupulation and management, full documentation can be found at <a href=\"https://pandas.pydata.org/docs/reference/index.html\">https://pandas.pydata.org/docs/reference/index.html</a></p>\n",
    "\n"
   ]
  },
  {
   "cell_type": "markdown",
   "metadata": {},
   "source": [
    "<h2>1. Importing Pandas into your projects </h2>\n",
    "\n",
    "<i>Usually done as shown bellow. Instalation of package can be done through pip, Pythons package manager if you want to do it locally an be done as described here: <a> </a></i>"
   ]
  },
  {
   "cell_type": "code",
   "execution_count": null,
   "metadata": {},
   "outputs": [],
   "source": [
    "import pandas as pd\n"
   ]
  },
  {
   "cell_type": "markdown",
   "metadata": {},
   "source": [
    "In python as is used to create alias for the library so that we can use pd.Dataframe instead of pandas.Dataframe"
   ]
  },
  {
   "cell_type": "code",
   "execution_count": null,
   "metadata": {},
   "outputs": [],
   "source": [
    "import pandas\n",
    "example=pandas.DataFrame([1,2,3])\n",
    "\n",
    "import pandas as pd\n",
    "example=pd.DataFrame([1,2,3])"
   ]
  },
  {
   "cell_type": "markdown",
   "metadata": {},
   "source": [
    "<h2> 2. The DataFrame </h2>"
   ]
  },
  {
   "cell_type": "markdown",
   "metadata": {},
   "source": [
    "<p> The dataframe is pandas primary data structure. Think of it as a normal table with extra features. </p>\n"
   ]
  },
  {
   "cell_type": "markdown",
   "metadata": {},
   "source": [
    " <h3>2.1 Panda Series </h3>\n",
    " <p> One dimensional row of data like a column in a table. Different type of data structures can be made as series. </p>"
   ]
  },
  {
   "cell_type": "code",
   "execution_count": null,
   "metadata": {},
   "outputs": [],
   "source": [
    "#from array\n",
    "array=[1,2,3,4,5]\n",
    "\n",
    "series1=pd.Series(array)\n",
    "\n",
    "print(series1)"
   ]
  },
  {
   "cell_type": "code",
   "execution_count": null,
   "metadata": {},
   "outputs": [],
   "source": [
    "#from dcitionary(hash map, works like un ordered map in C++)\n",
    "dict= {1:1,2:2,3:3,4:4,'a':5}\n",
    "\n",
    "series2=pd.Series(dict)\n",
    "\n",
    "print(series2)"
   ]
  },
  {
   "cell_type": "code",
   "execution_count": null,
   "metadata": {},
   "outputs": [],
   "source": [
    "#from a numpy array\n",
    "import numpy as np\n",
    "\n",
    "nparray=np.random.rand(5)\n",
    "\n",
    "series3=pd.Series(nparray)\n",
    "\n",
    "print(series3)"
   ]
  },
  {
   "cell_type": "markdown",
   "metadata": {},
   "source": [
    "You can also get the data much like a normal map by specifying index, note that if index is not specified it is 0-indexed by default."
   ]
  },
  {
   "cell_type": "code",
   "execution_count": null,
   "metadata": {},
   "outputs": [],
   "source": [
    "print(series3[2])\n",
    "print(series2['a'])"
   ]
  },
  {
   "cell_type": "markdown",
   "metadata": {},
   "source": [
    "<h3> 2.2 Back to DataFrame </h3>\n",
    "\n",
    "<p>If series is a single column, the data frame would be a whole table. Thus, dataframes can be made using series and inversely series can be extracted from dataframes. Obviously data frames can be made individually from other types of data structures such as arrays and hashmaps. </p>"
   ]
  },
  {
   "cell_type": "code",
   "execution_count": null,
   "metadata": {},
   "outputs": [],
   "source": [
    "#making df from series\n",
    "\n",
    "dfFromSeries = pd.DataFrame({\n",
    "    \"A\": series1,\n",
    "    \"B\": series2,\n",
    "    \"C\": series3\n",
    "})\n",
    "\n",
    "print(dfFromSeries)"
   ]
  },
  {
   "cell_type": "code",
   "execution_count": null,
   "metadata": {},
   "outputs": [],
   "source": [
    "#making data frame from dictionary/map\n",
    "map = {\n",
    "    \"Name\": [\"Alice\", \"Bob\", \"Charlie\", \"David\", \"Eve\", \"Frank\", \"Grace\", \"Hannah\", \"Ian\", \"Jane\"],\n",
    "    \"Age\": [24, 30, 22, 35, 29, 41, 36, 27, 31, 25],\n",
    "    \"City\": [\"Sydney\", \"Melbourne\", \"Adelaide\", \"Sydney\", \"Melbourne\",\"Adelaide\", \"Sydney\", \"Melbourne\", \"Adelaide\", \"Sydney\"],\n",
    "    \"Salary\": [70000, 80000, 65000, 90000, 72000, 82000, 73000, 67000, 75000, 78000]\n",
    "}\n",
    "\n",
    "ageDf=pd.DataFrame(map)\n",
    "\n",
    "print(ageDf)"
   ]
  },
  {
   "cell_type": "markdown",
   "metadata": {},
   "source": [
    "Series can be extracted from Data Frame as bellow"
   ]
  },
  {
   "cell_type": "code",
   "execution_count": null,
   "metadata": {},
   "outputs": [],
   "source": [
    "SeriesFromDF=ageDf.Name\n",
    "print(SeriesFromDF)"
   ]
  },
  {
   "cell_type": "code",
   "execution_count": null,
   "metadata": {},
   "outputs": [],
   "source": [
    "SeriesFromDF=ageDf['Age']\n",
    "print(SeriesFromDF)"
   ]
  },
  {
   "cell_type": "markdown",
   "metadata": {},
   "source": [
    "<h3>2.3 Importing Into Pandas </h3>\n",
    "<p> Mostly we don't want data to be made in python mostly we would want to import it from a big file stored elsewhere. Pandas supports many types of files it can import from, including compressed file example showed bellow.</p>"
   ]
  },
  {
   "cell_type": "code",
   "execution_count": null,
   "metadata": {},
   "outputs": [],
   "source": [
    "#reading from CSV file\n",
    "df=pd.read_csv('https://raw.githubusercontent.com/compsci-adl/pandas-workshop/main/StudentsPerformance.csv')\n",
    "\n",
    "print(df)"
   ]
  },
  {
   "cell_type": "markdown",
   "metadata": {},
   "source": [
    "<p>Files can be read from different formats including CSV, excel, SQL etc.. </p>"
   ]
  },
  {
   "cell_type": "markdown",
   "metadata": {},
   "source": [
    "<h2> 3. Functions of pandas </h3>\n",
    "\n"
   ]
  },
  {
   "cell_type": "markdown",
   "metadata": {},
   "source": [
    "<p> As its main function, pandas is used to clean and analyse large datasets, its has built in functions for this purpose </p>"
   ]
  },
  {
   "cell_type": "markdown",
   "metadata": {},
   "source": [
    "<h3>Indexing Functions </h3>\n",
    "Used for retrieving data from dataset.\n"
   ]
  },
  {
   "cell_type": "markdown",
   "metadata": {},
   "source": [
    "Head and Tail show the first and last five elements as shown."
   ]
  },
  {
   "cell_type": "code",
   "execution_count": null,
   "metadata": {},
   "outputs": [],
   "source": [
    "print(ageDf.head())"
   ]
  },
  {
   "cell_type": "code",
   "execution_count": null,
   "metadata": {},
   "outputs": [],
   "source": [
    "print(ageDf.tail())"
   ]
  },
  {
   "cell_type": "markdown",
   "metadata": {},
   "source": [
    "For getting specific row or rows of data the loc or iloc method can be used."
   ]
  },
  {
   "cell_type": "markdown",
   "metadata": {},
   "source": [
    "iloc is used with numeric indexes and we can get range of values using iloc"
   ]
  },
  {
   "cell_type": "code",
   "execution_count": null,
   "metadata": {},
   "outputs": [],
   "source": [
    "ageDf.iloc[3]\n"
   ]
  },
  {
   "cell_type": "code",
   "execution_count": null,
   "metadata": {},
   "outputs": [],
   "source": [
    "ageDf.iloc[1:3]"
   ]
  },
  {
   "cell_type": "markdown",
   "metadata": {},
   "source": [
    "loc is used for retrieving using label or boolean conditions"
   ]
  },
  {
   "cell_type": "markdown",
   "metadata": {},
   "source": [
    "Boolean conditions are basically filters, can be used by themselves without loc as follows:"
   ]
  },
  {
   "cell_type": "code",
   "execution_count": null,
   "metadata": {},
   "outputs": [],
   "source": [
    "ageDf[ageDf['Age']>25 ]"
   ]
  },
  {
   "cell_type": "code",
   "execution_count": null,
   "metadata": {},
   "outputs": [],
   "source": [
    "ageDf[(ageDf['Age']>25) & (ageDf['Salary']<75000)]"
   ]
  },
  {
   "cell_type": "code",
   "execution_count": null,
   "metadata": {},
   "outputs": [],
   "source": [
    "ageDf.loc[(ageDf['Age']>25) & (ageDf['Salary']<75000),'Name']\n"
   ]
  },
  {
   "cell_type": "markdown",
   "metadata": {},
   "source": [
    "<h3>Summary Functions </h3>\n",
    "Summary functions for basic statistics measures and other basic functions like sum.\n"
   ]
  },
  {
   "cell_type": "code",
   "execution_count": null,
   "metadata": {},
   "outputs": [],
   "source": [
    "salaryFilt=ageDf[(ageDf['Age']>25) & (ageDf['Salary']<75000)]\n",
    "\n",
    "print(salaryFilt)\n"
   ]
  },
  {
   "cell_type": "code",
   "execution_count": null,
   "metadata": {},
   "outputs": [],
   "source": [
    "print(salaryFilt['Salary'].describe())"
   ]
  },
  {
   "cell_type": "code",
   "execution_count": null,
   "metadata": {},
   "outputs": [],
   "source": [
    "print(ageDf['Salary'].describe())"
   ]
  },
  {
   "cell_type": "code",
   "execution_count": null,
   "metadata": {},
   "outputs": [],
   "source": [
    "print(ageDf['Age'].mean())\n"
   ]
  },
  {
   "cell_type": "markdown",
   "metadata": {},
   "source": [
    "<h3>Plot function </h3>"
   ]
  },
  {
   "cell_type": "markdown",
   "metadata": {},
   "source": [
    "pandas has a built in plot function similar to what is present in matplotlib"
   ]
  },
  {
   "cell_type": "code",
   "execution_count": null,
   "metadata": {},
   "outputs": [],
   "source": [
    "ageDf.plot()"
   ]
  },
  {
   "cell_type": "markdown",
   "metadata": {},
   "source": [
    "You can also plot a variable against a another, with various kinds of plots."
   ]
  },
  {
   "cell_type": "code",
   "execution_count": null,
   "metadata": {},
   "outputs": [],
   "source": [
    "ageDf.plot(kind='scatter',x='Age',y='Salary')"
   ]
  },
  {
   "cell_type": "markdown",
   "metadata": {},
   "source": [
    "There is also the correlation function which is discussed later"
   ]
  },
  {
   "cell_type": "markdown",
   "metadata": {},
   "source": [
    "<h3> Drop Functions </h3>\n",
    "\n",
    "One of its major functions is to drop or fill in null values, going back to example where we made data frame from multiple series a mismatch of index caused a NaN value to be formed, we can remove this using pandas"
   ]
  },
  {
   "cell_type": "code",
   "execution_count": null,
   "metadata": {},
   "outputs": [],
   "source": [
    "print(dfFromSeries)"
   ]
  },
  {
   "cell_type": "markdown",
   "metadata": {},
   "source": [
    "Two functions we can use to help in removing these values are the dropna and fillna functions, it is not always possible to drop the entire row so fillna is used instead ."
   ]
  },
  {
   "cell_type": "code",
   "execution_count": null,
   "metadata": {},
   "outputs": [],
   "source": [
    "dfFromSeries['B']=dfFromSeries.B.fillna(dfFromSeries.B.median())\n",
    "\n",
    "print(dfFromSeries)\n",
    "\n"
   ]
  },
  {
   "cell_type": "code",
   "execution_count": null,
   "metadata": {},
   "outputs": [],
   "source": [
    "dfFromSeries=dfFromSeries.dropna()\n",
    "\n",
    "print(dfFromSeries)"
   ]
  },
  {
   "cell_type": "markdown",
   "metadata": {},
   "source": [
    "<h3> Groupby Functions </h3>"
   ]
  },
  {
   "cell_type": "markdown",
   "metadata": {},
   "source": [
    "Makes it possible to do groupwise analysis, for example grouping data by cities or countries."
   ]
  },
  {
   "cell_type": "markdown",
   "metadata": {},
   "source": [
    "Lets say we want to group our salary and age data by city instead"
   ]
  },
  {
   "cell_type": "code",
   "execution_count": null,
   "metadata": {},
   "outputs": [],
   "source": [
    "\n",
    "ageDf"
   ]
  },
  {
   "cell_type": "markdown",
   "metadata": {},
   "source": [
    "We can use groupby to achieve this but unfortunately, printing groupby just returns a object pointer "
   ]
  },
  {
   "cell_type": "code",
   "execution_count": null,
   "metadata": {},
   "outputs": [],
   "source": [
    "ageDf.groupby('City')"
   ]
  },
  {
   "cell_type": "markdown",
   "metadata": {},
   "source": [
    "Use a lambda function instead to display all the elements"
   ]
  },
  {
   "cell_type": "code",
   "execution_count": null,
   "metadata": {},
   "outputs": [],
   "source": [
    "ageDf.groupby('City').apply(lambda df: df.iloc[:,])"
   ]
  },
  {
   "cell_type": "code",
   "execution_count": null,
   "metadata": {},
   "outputs": [],
   "source": [
    "ageDf.groupby('City')['Salary'].agg([len,'min','max','mean','median','std'])"
   ]
  },
  {
   "cell_type": "markdown",
   "metadata": {},
   "source": [
    "<h3>Element Functions </h3>\n"
   ]
  },
  {
   "cell_type": "markdown",
   "metadata": {},
   "source": [
    "Functions that can be used on every element, every row or every column in a dataframe.\n",
    "Can be used for various functions like displaying elements, normalisation etc.."
   ]
  },
  {
   "cell_type": "code",
   "execution_count": null,
   "metadata": {},
   "outputs": [],
   "source": [
    "\n",
    "def correction(row):\n",
    "    if row.City=='Sydney':\n",
    "        row.Salary+=5000\n",
    "    return row\n",
    "\n",
    "ageDf=ageDf.apply(correction,axis=1)\n",
    "ageDf"
   ]
  },
  {
   "cell_type": "markdown",
   "metadata": {},
   "source": [
    "<h3> Correlation Function </h3>"
   ]
  },
  {
   "cell_type": "markdown",
   "metadata": {},
   "source": [
    "Much like the statical summary function, this function makes a correlation matrix between two variables"
   ]
  },
  {
   "cell_type": "code",
   "execution_count": null,
   "metadata": {},
   "outputs": [],
   "source": [
    "ageDf.corr()"
   ]
  },
  {
   "cell_type": "code",
   "execution_count": null,
   "metadata": {},
   "outputs": [],
   "source": [
    "ageDf.loc[:,['Salary','Age']].corr()"
   ]
  },
  {
   "cell_type": "markdown",
   "metadata": {},
   "source": [
    "<h3> Joining Functions</h3>\n",
    "\n",
    "pandas also has various functions to join two data sets together, with various different methods of doing so.\n",
    "\n",
    "The main functions used are merge and concat."
   ]
  },
  {
   "cell_type": "code",
   "execution_count": null,
   "metadata": {},
   "outputs": [],
   "source": [
    "half1=ageDf.iloc[:5]\n",
    "half2=ageDf.iloc[5:]\n",
    "\n",
    "print(half1,'\\n\\n',half2)"
   ]
  },
  {
   "cell_type": "code",
   "execution_count": null,
   "metadata": {},
   "outputs": [],
   "source": [
    "combined=pd.concat([half1,half2])\n",
    "\n",
    "combined"
   ]
  },
  {
   "cell_type": "markdown",
   "metadata": {},
   "source": [
    "<h3> Some Miscellaneous Function </h3>\n",
    "\n"
   ]
  },
  {
   "cell_type": "code",
   "execution_count": null,
   "metadata": {},
   "outputs": [],
   "source": [
    "#return unique values in an array\n",
    "\n",
    "pd.unique(ageDf['City'])"
   ]
  },
  {
   "cell_type": "code",
   "execution_count": null,
   "metadata": {},
   "outputs": [],
   "source": [
    "print(series2.keys())# return indexes of object\n",
    "\n",
    "print(pd.to_numeric(series2.keys(),errors='coerce'))#returns object with all numeric values"
   ]
  },
  {
   "cell_type": "code",
   "execution_count": null,
   "metadata": {},
   "outputs": [],
   "source": [
    "matrix=pd.DataFrame([[1,1,1],[2,1,3]])\n",
    "matrix\n"
   ]
  },
  {
   "cell_type": "code",
   "execution_count": null,
   "metadata": {},
   "outputs": [],
   "source": [
    "matrix.T # matrix transpose"
   ]
  },
  {
   "cell_type": "code",
   "execution_count": null,
   "metadata": {},
   "outputs": [],
   "source": [
    "matrix.T @ matrix # matrix multiply"
   ]
  },
  {
   "cell_type": "markdown",
   "metadata": {},
   "source": [
    "<h2>Example Usage </h2>"
   ]
  },
  {
   "cell_type": "code",
   "execution_count": null,
   "metadata": {},
   "outputs": [],
   "source": [
    "df"
   ]
  },
  {
   "cell_type": "code",
   "execution_count": null,
   "metadata": {},
   "outputs": [],
   "source": [
    "df.dropna(inplace=True)\n",
    "df\n"
   ]
  },
  {
   "cell_type": "code",
   "execution_count": null,
   "metadata": {},
   "outputs": [],
   "source": [
    "df.groupby('lunch').apply(lambda df: df.loc[:,'math score'])\n",
    "df.groupby(['lunch'])['math score'].agg(['min','max','median',len])"
   ]
  },
  {
   "cell_type": "code",
   "execution_count": null,
   "metadata": {},
   "outputs": [],
   "source": [
    "df.groupby(['lunch'])['math score'].plot(kind='box')"
   ]
  },
  {
   "cell_type": "code",
   "execution_count": null,
   "metadata": {},
   "outputs": [],
   "source": [
    "df.boxplot(column='math score', by='lunch', grid=False)"
   ]
  },
  {
   "cell_type": "code",
   "execution_count": null,
   "metadata": {},
   "outputs": [],
   "source": [
    "newDf=df.loc[:,['math score','reading score']]\n",
    "\n"
   ]
  },
  {
   "cell_type": "code",
   "execution_count": null,
   "metadata": {},
   "outputs": [],
   "source": [
    "newDf.corr()"
   ]
  },
  {
   "cell_type": "code",
   "execution_count": null,
   "metadata": {},
   "outputs": [],
   "source": [
    "newDf = newDf.apply(pd.to_numeric, errors='coerce')\n",
    "newDf.dropna(inplace=True)\n",
    "\n",
    "\n"
   ]
  },
  {
   "cell_type": "code",
   "execution_count": null,
   "metadata": {},
   "outputs": [],
   "source": [
    "newDf.corr()"
   ]
  },
  {
   "cell_type": "code",
   "execution_count": null,
   "metadata": {},
   "outputs": [],
   "source": [
    "newDf.plot()"
   ]
  },
  {
   "cell_type": "code",
   "execution_count": null,
   "metadata": {},
   "outputs": [],
   "source": [
    "newDf.plot(x='math score',y='reading score', kind='scatter')"
   ]
  },
  {
   "cell_type": "code",
   "execution_count": null,
   "metadata": {},
   "outputs": [],
   "source": [
    "import numpy as np\n",
    "import matplotlib.pyplot as plt\n",
    "\n",
    "slope, intercept = np.polyfit(newDf['math score'], newDf['reading score'], 1)\n",
    "line_x = np.linspace(df['math score'].min(), df['math score'].max(), 100)\n",
    "line_y = slope * line_x + intercept\n",
    "\n",
    "newDf.plot(x='math score',y='reading score', kind='scatter')\n",
    "plt.plot(line_x, line_y, color='red', label=f'Best Fit Line: y={slope:.2f}x+{intercept:.2f}')\n",
    "\n",
    "\n",
    "\n",
    "plt.legend()\n",
    "\n",
    "\n",
    "plt.show()"
   ]
  }
 ],
 "metadata": {
  "kernelspec": {
   "display_name": "Python 3",
   "language": "python",
   "name": "python3"
  },
  "language_info": {
   "codemirror_mode": {
    "name": "ipython",
    "version": 3
   },
   "file_extension": ".py",
   "mimetype": "text/x-python",
   "name": "python",
   "nbconvert_exporter": "python",
   "pygments_lexer": "ipython3",
   "version": "3.12.4"
  }
 },
 "nbformat": 4,
 "nbformat_minor": 2
}
